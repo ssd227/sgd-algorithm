{
 "cells": [
  {
   "attachments": {},
   "cell_type": "markdown",
   "metadata": {},
   "source": [
    "## 大根堆，or 小根堆\n",
    "\n",
    "完整实现又写了一个下午，调bug调了半天。"
   ]
  },
  {
   "cell_type": "code",
   "execution_count": 37,
   "metadata": {},
   "outputs": [],
   "source": [
    "class Heap:\n",
    "    def __init__(self, capacity, compare_f):\n",
    "        self.order = compare_f\n",
    "        \n",
    "        self.capacity = capacity\n",
    "        self.size = 0\n",
    "        \n",
    "        self.arr = [0]*self.capacity # 使用List来表示树结构\n",
    "    \n",
    "    def add(self, x):\n",
    "        if self.size < self.capacity:\n",
    "            self.arr[self.size] = x\n",
    "            self.size += 1\n",
    "\n",
    "            self.up(self.size-1) # 新加元素，交换到正确的位置\n",
    "            \n",
    "            return True\n",
    "        \n",
    "        # print(\"add item failed! heap is full, remove item first\")\n",
    "        return False\n",
    "    \n",
    "    def auto_add(self, x):\n",
    "        # 当堆占满后，自动pop 堆顶元素，然后添加新的item\n",
    "        ok = self.add(x)\n",
    "        \n",
    "        if (not ok) and (not self.order(x, self.arr[0])): # 堆占满了， 且x比堆顶元素强点，\n",
    "            self.remove() # 删掉最弱的堆顶元素，插入x\n",
    "            assert self.size == (self.capacity-1)\n",
    "            self.add(x)\n",
    "\n",
    "    def pop():\n",
    "        # 依次取出堆中最小的元素\n",
    "        pass\n",
    "    \n",
    "    def all_item(self):\n",
    "        return self.arr[:self.size]\n",
    "    \n",
    "    def top(self):\n",
    "        # 返回堆顶元素\n",
    "        return self.arr[0]\n",
    "    \n",
    "    def remove(self):\n",
    "        # 删除堆顶元素，把最后一位补上，并下沉到正确的位置\n",
    "        self.size-=1\n",
    "        self.arr[0] = self.arr[self.size]\n",
    "        \n",
    "        i = 0\n",
    "        # parent keep order of left and right children\n",
    "\n",
    "        # print(\"down-log\", self._keep_order(i, self.left(i)), self._keep_order(i, self.right(i)))\n",
    "        while not (self._keep_order(i, self.left(i))\n",
    "                   and self._keep_order(i, self.right(i))):\n",
    "            \n",
    "            lid, rid = self.left(i), self.right(i)\n",
    "            nextid = lid  if self._keep_order(lid, rid) else rid # 选择更不合理的一个子节点交换\n",
    "            # print(\"down-swap\", i, nextid)\n",
    "\n",
    "            if nextid:\n",
    "                self._swap(i, nextid)\n",
    "                i = nextid\n",
    "    \n",
    "    # help func - 使用id来比较arr值\n",
    "    def _keep_order(self, i, j):\n",
    "        if j is None:\n",
    "            return True\n",
    "        return self.order(self.arr[i], self.arr[j])\n",
    "    \n",
    "    # help func - 使用id来交换arr值\n",
    "    def _swap(self, i,j):\n",
    "        self.arr[i], self.arr[j] = self.arr[j], self.arr[i]\n",
    "            \n",
    "    def up(self, i):\n",
    "        # 最后一位元素向上交换，上浮动至正确的位置\n",
    "        while (not self._keep_order(self.parent(i), i)) and (self.parent(i) != i):\n",
    "            self._swap(self.parent(i), i)\n",
    "            # print(\"up-swap\", self.parent(i) , i)\n",
    "            i = self.parent(i)\n",
    "    \n",
    "    def parent(self, i):\n",
    "        if i > 0:\n",
    "            return (i-1)//2\n",
    "        if i == 0:\n",
    "            return 0\n",
    "    \n",
    "    def left(self, i):\n",
    "        # 超过size需返回None\n",
    "        lid = 2*i +1\n",
    "        return lid if lid < self.size else None\n",
    "    \n",
    "    def right(self, i):\n",
    "        # 超过size需返回None\n",
    "        rid = 2*(i+1)\n",
    "        return rid if rid < self.size else None\n",
    "\n",
    "# compare function\n",
    "def larger(a, b):\n",
    "    return a > b\n",
    "\n",
    "def smaller(a, b):\n",
    "    return a < b\n",
    "\n",
    "def maxheap(capacity):\n",
    "    return Heap(capacity, compare_f=larger)\n",
    "\n",
    "def minheap(capacity):\n",
    "    return Heap(capacity, compare_f=smaller)"
   ]
  },
  {
   "cell_type": "code",
   "execution_count": 38,
   "metadata": {},
   "outputs": [
    {
     "name": "stdout",
     "output_type": "stream",
     "text": [
      "add item: 1\n",
      "add item: 2\n",
      "add item: 3\n",
      "add item: 4\n",
      "add item: 5\n",
      "add item: 6\n",
      "add item: 7\n",
      "add item: -1\n",
      "add item: -2\n",
      "add item: -3\n",
      "6\n"
     ]
    }
   ],
   "source": [
    "li = [1,2,3,4,5,6,7, -1, -2, -3]\n",
    "k = 2\n",
    "# 保留topk个最大的元素, 使用小根堆\n",
    "topk_large = minheap(capacity=k)\n",
    "for x in li:\n",
    "    print(\"add item:\", x)\n",
    "    topk_large.auto_add(x)\n",
    "\n",
    "print(topk_large.top())"
   ]
  },
  {
   "cell_type": "code",
   "execution_count": 39,
   "metadata": {},
   "outputs": [
    {
     "name": "stdout",
     "output_type": "stream",
     "text": [
      "-2\n"
     ]
    }
   ],
   "source": [
    "# 保留topk个最小的元素，使用大根堆\n",
    "topk_small = maxheap(capacity=k)\n",
    "for x in li:\n",
    "    topk_small.auto_add(x)\n",
    "\n",
    "print(topk_small.top())"
   ]
  }
 ],
 "metadata": {
  "kernelspec": {
   "display_name": "base",
   "language": "python",
   "name": "python3"
  },
  "language_info": {
   "codemirror_mode": {
    "name": "ipython",
    "version": 3
   },
   "file_extension": ".py",
   "mimetype": "text/x-python",
   "name": "python",
   "nbconvert_exporter": "python",
   "pygments_lexer": "ipython3",
   "version": "3.10.9"
  },
  "orig_nbformat": 4
 },
 "nbformat": 4,
 "nbformat_minor": 2
}
