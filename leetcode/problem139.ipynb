{
 "cells": [
  {
   "attachments": {},
   "cell_type": "markdown",
   "metadata": {},
   "source": [
    "### 139. 单词拆分\n",
    "\n"
   ]
  },
  {
   "cell_type": "code",
   "execution_count": 40,
   "metadata": {},
   "outputs": [],
   "source": [
    "# trie tree 的思路，使用key来当val，直接查询路径\n",
    "class Node:\n",
    "    def __init__(self) -> None:\n",
    "        self.dic = dict()\n",
    "        self.isword = False\n",
    "        \n",
    "class TrieTree:\n",
    "    def __init__(self) -> None:\n",
    "        self.root = Node()\n",
    "\n",
    "    def add(self, word):\n",
    "        p = self.root \n",
    "        for c in word:\n",
    "            if c not in p.dic:\n",
    "                p.dic[c] = Node()\n",
    "            p = p.dic[c]\n",
    "        p.isword = True\n",
    "    \n",
    "    def in_trie(self, word):\n",
    "        p = self.root\n",
    "        for c in word:\n",
    "            if c not in p.dic:\n",
    "                return False\n",
    "            p = p.dic[c]\n",
    "        return p.isword\n",
    "    \n",
    "    def get_all_words_offset(self, word):\n",
    "        eids = []\n",
    "        p = self.root\n",
    "        for i in range(len(word)):\n",
    "            c = word[i]\n",
    "            if c not in p.dic:\n",
    "                return eids\n",
    "            else:\n",
    "                p = p.dic[c]\n",
    "                if p.isword:\n",
    "                    eids.append(i)\n",
    "        return eids           \n",
    "        "
   ]
  },
  {
   "cell_type": "code",
   "execution_count": 41,
   "metadata": {},
   "outputs": [
    {
     "name": "stdout",
     "output_type": "stream",
     "text": [
      "False False False\n",
      "True False False\n",
      "True True False\n"
     ]
    }
   ],
   "source": [
    "a = 'hello'\n",
    "b = 'hi'\n",
    "c = 'he'\n",
    "trie = TrieTree()\n",
    "print(trie.in_trie(a), trie.in_trie(b), trie.in_trie(c),)\n",
    "trie.add(a)\n",
    "print(trie.in_trie(a), trie.in_trie(b), trie.in_trie(c),)\n",
    "trie.add(b)\n",
    "print(trie.in_trie(a), trie.in_trie(b), trie.in_trie(c),)"
   ]
  },
  {
   "cell_type": "code",
   "execution_count": 47,
   "metadata": {},
   "outputs": [
    {
     "data": {
      "text/plain": [
       "False"
      ]
     },
     "execution_count": 47,
     "metadata": {},
     "output_type": "execute_result"
    }
   ],
   "source": [
    "# 简单的分词路径\n",
    "class Solution:\n",
    "    def wordBreak(self, s: str, wordDict) -> bool:\n",
    "        # 利用trie tree不断在各个位置上试探，如果能走到s末尾，即返回true\n",
    "        trie = TrieTree()\n",
    "        for word in wordDict:\n",
    "            trie.add(word)\n",
    "        \n",
    "        # 记录每个位置起始的所有 可能的词语\n",
    "        N = len(s)\n",
    "        sid_eid_index = dict() # {start_id: [end_id1, end_id2]}\n",
    "        \n",
    "        for i in range(N):\n",
    "            eids = [eid + i  for eid in trie.get_all_words_offset(s[i:])]\n",
    "            if len(eids) >0:\n",
    "                sid_eid_index[i] = eids\n",
    "        \n",
    "        # 动态规划，看看有没有一条路径可以走到单词结尾\n",
    "        if 0 not in sid_eid_index:\n",
    "            return False\n",
    "\n",
    "        seen_pos = set([0])    \n",
    "        pos = [0]\n",
    "        \n",
    "        while len(pos):\n",
    "            next_pos = []\n",
    "            for sid in pos:\n",
    "                if sid in sid_eid_index:\n",
    "                    for eid in sid_eid_index[sid]:\n",
    "                        if eid in seen_pos and eid!=sid: # 细节问题，太容易出错\n",
    "                            continue\n",
    "                        else:\n",
    "                            seen_pos.add(eid)\n",
    "                            # chck legal index\n",
    "                            if eid+1 < N:\n",
    "                                next_pos.append(eid+1)\n",
    "            pos = next_pos\n",
    "        \n",
    "        return N-1 in seen_pos  "
   ]
  },
  {
   "cell_type": "code",
   "execution_count": 50,
   "metadata": {},
   "outputs": [
    {
     "data": {
      "text/plain": [
       "True"
      ]
     },
     "execution_count": 50,
     "metadata": {},
     "output_type": "execute_result"
    }
   ],
   "source": [
    "s = \"leetcode\"\n",
    "wordDict = [\"leet\", \"code\"]\n",
    "# {0: [3], 4: [7]} True\n",
    "Solution().wordBreak(s, wordDict)"
   ]
  },
  {
   "cell_type": "code",
   "execution_count": 51,
   "metadata": {},
   "outputs": [
    {
     "data": {
      "text/plain": [
       "True"
      ]
     },
     "execution_count": 51,
     "metadata": {},
     "output_type": "execute_result"
    }
   ],
   "source": [
    "s = \"applepenapple\"\n",
    "wordDict = [\"apple\", \"pen\"]\n",
    "# {0: [4], 5: [7], 8: [12]} True\n",
    "Solution().wordBreak(s, wordDict)"
   ]
  },
  {
   "cell_type": "code",
   "execution_count": 52,
   "metadata": {},
   "outputs": [
    {
     "data": {
      "text/plain": [
       "False"
      ]
     },
     "execution_count": 52,
     "metadata": {},
     "output_type": "execute_result"
    }
   ],
   "source": [
    "s = \"catsandog\"\n",
    "wordDict = [\"cats\", \"dog\", \"sand\", \"and\", \"cat\"]\n",
    "# {0: [2, 3], 3: [6], 4: [6], 6: [8]} False\n",
    "Solution().wordBreak(s, wordDict)"
   ]
  },
  {
   "cell_type": "code",
   "execution_count": 53,
   "metadata": {},
   "outputs": [
    {
     "data": {
      "text/plain": [
       "True"
      ]
     },
     "execution_count": 53,
     "metadata": {},
     "output_type": "execute_result"
    }
   ],
   "source": [
    "# 测代码的时候，下面两个corner case没有兼顾到\n",
    "s = \"ab\"\n",
    "wordDict = [\"a\", \"b\"]\n",
    "Solution().wordBreak(s, wordDict)"
   ]
  },
  {
   "cell_type": "code",
   "execution_count": 54,
   "metadata": {},
   "outputs": [
    {
     "data": {
      "text/plain": [
       "False"
      ]
     },
     "execution_count": 54,
     "metadata": {},
     "output_type": "execute_result"
    }
   ],
   "source": [
    "s = \"a\"\n",
    "wordDict = [\"b\"]\n",
    "Solution().wordBreak(s, wordDict)"
   ]
  }
 ],
 "metadata": {
  "kernelspec": {
   "display_name": "base",
   "language": "python",
   "name": "python3"
  },
  "language_info": {
   "codemirror_mode": {
    "name": "ipython",
    "version": 3
   },
   "file_extension": ".py",
   "mimetype": "text/x-python",
   "name": "python",
   "nbconvert_exporter": "python",
   "pygments_lexer": "ipython3",
   "version": "3.10.9"
  },
  "orig_nbformat": 4
 },
 "nbformat": 4,
 "nbformat_minor": 2
}
