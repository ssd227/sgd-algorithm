{
 "cells": [
  {
   "cell_type": "code",
   "execution_count": 14,
   "metadata": {
    "collapsed": false
   },
   "outputs": [
    {
     "name": "stdout",
     "output_type": "stream",
     "text": [
      "a= 60 : 0b111100 b= 13 : 0b1101\n"
     ]
    }
   ],
   "source": [
    "a = 60            # 60 = 0011 1100\n",
    "b = 13            # 13 = 0000 1101\n",
    "print ('a=',a,':',bin(a),'b=',b,':',bin(b))\n",
    "c = 0"
   ]
  },
  {
   "cell_type": "code",
   "execution_count": 16,
   "metadata": {
    "collapsed": false
   },
   "outputs": [
    {
     "name": "stdout",
     "output_type": "stream",
     "text": [
      "result of AND is  12 : 0b1100\n",
      "result of OR is  61 : 0b111101\n",
      "result of EXOR is  49 : 0b110001\n",
      "result of COMPLEMENT is  -61 : -0b111101\n",
      "result of LEFT SHIFT is  240 : 0b11110000\n",
      "result of RIGHT SHIFT is  15 : 0b1111\n"
     ]
    }
   ],
   "source": [
    "c = a & b;        # 12 = 0000 1100\n",
    "print (\"result of AND is \", c,':',bin(c))\n",
    "c = a | b;        # 61 = 0011 1101 \n",
    "print (\"result of OR is \", c,':',bin(c))\n",
    "c = a ^ b;        # 49 = 0011 0001\n",
    "print (\"result of EXOR is \", c,':',bin(c))\n",
    "c = ~a;           # -61 = 1100 0011\n",
    "print (\"result of COMPLEMENT is \", c,':',bin(c))\n",
    "c = a << 2;       # 240 = 1111 0000\n",
    "print (\"result of LEFT SHIFT is \", c,':',bin(c))\n",
    "c = a >> 2;       # 15 = 0000 1111\n",
    "print (\"result of RIGHT SHIFT is \", c,':',bin(c))"
   ]
  },
  {
   "cell_type": "code",
   "execution_count": 21,
   "metadata": {
    "collapsed": false
   },
   "outputs": [
    {
     "name": "stdout",
     "output_type": "stream",
     "text": [
      "1 0b1\n",
      "\n",
      "2 0b10\n",
      "\n",
      "4 0b100\n",
      "\n",
      "8 0b1000\n",
      "\n",
      "16 0b10000\n",
      "\n",
      "32 0b100000\n",
      "\n",
      "64 0b1000000\n",
      "\n",
      "128 0b10000000\n",
      "\n",
      "256 0b100000000\n",
      "\n",
      "512 0b1000000000\n",
      "\n"
     ]
    }
   ],
   "source": [
    "for i in range(10):\n",
    "    print(2**i,end=\" \")\n",
    "    print(bin(2**i))\n",
    "    print()"
   ]
  },
  {
   "cell_type": "code",
   "execution_count": 25,
   "metadata": {
    "collapsed": false
   },
   "outputs": [
    {
     "name": "stdout",
     "output_type": "stream",
     "text": [
      "6\n",
      "0b111\n"
     ]
    }
   ],
   "source": [
    "print(2+4)\n",
    "print(bin(2+4+1))"
   ]
  },
  {
   "cell_type": "code",
   "execution_count": 42,
   "metadata": {
    "collapsed": false
   },
   "outputs": [
    {
     "name": "stdout",
     "output_type": "stream",
     "text": [
      "32\n"
     ]
    }
   ],
   "source": [
    "a = 0xffffffff\n",
    "str_a = bin(a)\n",
    "print(len(str_a)-2)"
   ]
  },
  {
   "cell_type": "code",
   "execution_count": 52,
   "metadata": {
    "collapsed": false
   },
   "outputs": [
    {
     "name": "stdout",
     "output_type": "stream",
     "text": [
      "28\n",
      "0b11111111111111111111111111111111\n",
      "60 32\n",
      "0b111111111111111111111111111111110000000000000000000000000000\n"
     ]
    }
   ],
   "source": [
    "y =int((7.0/8)*(len(str_a)-2))\n",
    "print(y)\n",
    "print(bin(a))\n",
    "str_aa =bin(a<<y)\n",
    "print(len(str_aa)-2,len(str_a)-2)\n",
    "\n",
    "print (bin(int(a<<y)))"
   ]
  },
  {
   "cell_type": "code",
   "execution_count": 64,
   "metadata": {
    "collapsed": false
   },
   "outputs": [
    {
     "name": "stdout",
     "output_type": "stream",
     "text": [
      "6901746345183625743175765586735063360109946369648183561379731388497920\n"
     ]
    }
   ],
   "source": [
    "bin(-134217728)\n",
    "print(int(0xffffffff<<200))"
   ]
  },
  {
   "cell_type": "code",
   "execution_count": null,
   "metadata": {
    "collapsed": true
   },
   "outputs": [],
   "source": []
  }
 ],
 "metadata": {
  "kernelspec": {
   "display_name": "Python 3",
   "language": "python",
   "name": "python3"
  },
  "language_info": {
   "codemirror_mode": {
    "name": "ipython",
    "version": 3
   },
   "file_extension": ".py",
   "mimetype": "text/x-python",
   "name": "python",
   "nbconvert_exporter": "python",
   "pygments_lexer": "ipython3",
   "version": "3.6.0"
  }
 },
 "nbformat": 4,
 "nbformat_minor": 2
}
