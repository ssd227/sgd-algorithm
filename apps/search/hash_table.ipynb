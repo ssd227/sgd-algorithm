{
 "cells": [
  {
   "attachments": {},
   "cell_type": "markdown",
   "metadata": {},
   "source": [
    "# hash table\n",
    "\n",
    "* 1 static_hashing\n",
    "  * 1.1 separate_chaining_hash\n",
    "  * 1.2 linear_probing_hash\n",
    "* 2 dynamic_hashing\n",
    "  * todo (开发中)"
   ]
  },
  {
   "cell_type": "code",
   "execution_count": null,
   "metadata": {},
   "outputs": [],
   "source": [
    "!pip install xxhash"
   ]
  },
  {
   "cell_type": "code",
   "execution_count": null,
   "metadata": {},
   "outputs": [],
   "source": [
    "%cd /playground/sgd_算法/\n",
    "import sys \n",
    "sys.path.append('./python')\n",
    "import sgd_alg.search.hash_table.static_hashing as static_hashing"
   ]
  },
  {
   "attachments": {},
   "cell_type": "markdown",
   "metadata": {},
   "source": [
    "### 1.1 Separate Chaining Hash ST"
   ]
  },
  {
   "cell_type": "code",
   "execution_count": null,
   "metadata": {},
   "outputs": [],
   "source": [
    "hst = static_hashing.SeparateChainingHashST(2)\n",
    "hst.put(1, 1)\n",
    "hst.put(2, 2)\n",
    "hst.put(3, 3)\n",
    "hst.put(4, 4)\n",
    "hst.log_inner_state()\n",
    "print(hst.get(1))\n",
    "print(hst.get(2))\n",
    "print(hst.get(3))"
   ]
  },
  {
   "attachments": {},
   "cell_type": "markdown",
   "metadata": {},
   "source": [
    "### 1.2 LinearProbingHashST"
   ]
  },
  {
   "cell_type": "code",
   "execution_count": null,
   "metadata": {},
   "outputs": [],
   "source": [
    "n = 3\n",
    "m = 2 * n  # 最优两倍的数据量\n",
    "# 由于不可能插满，所以溢出问题不存在。 必定有slot 可以插满\n",
    "# todo 但是就不能使用 lazy delete， 用(key，null)表示不存在\n",
    "hst = static_hashing.LinearProbingHashST(m)\n",
    "\n",
    "for i in range(n):\n",
    "    hst.put(i, i)\n",
    "\n",
    "hst.log_inner_state()\n",
    "\n",
    "print(hst.get(1))\n",
    "print(hst.get(2))\n",
    "print(hst.get(3))"
   ]
  }
 ],
 "metadata": {
  "kernelspec": {
   "display_name": "base",
   "language": "python",
   "name": "python3"
  },
  "language_info": {
   "codemirror_mode": {
    "name": "ipython",
    "version": 3
   },
   "file_extension": ".py",
   "mimetype": "text/x-python",
   "name": "python",
   "nbconvert_exporter": "python",
   "pygments_lexer": "ipython3",
   "version": "3.10.9"
  },
  "orig_nbformat": 4
 },
 "nbformat": 4,
 "nbformat_minor": 2
}
