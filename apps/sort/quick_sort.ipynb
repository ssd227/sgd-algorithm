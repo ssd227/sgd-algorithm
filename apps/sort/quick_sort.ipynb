{
 "cells": [
  {
   "attachments": {},
   "cell_type": "markdown",
   "metadata": {},
   "source": [
    "## Quick Sort"
   ]
  },
  {
   "cell_type": "code",
   "execution_count": 1,
   "metadata": {},
   "outputs": [
    {
     "name": "stdout",
     "output_type": "stream",
     "text": [
      "/playground/sgd_算法\n"
     ]
    }
   ],
   "source": [
    "%cd /playground/sgd_算法/\n",
    "import sys \n",
    "sys.path.append('./python')\n",
    "import sgd_alg.sort.quick_sort as qs\n",
    "import random\n",
    "import time"
   ]
  },
  {
   "attachments": {},
   "cell_type": "markdown",
   "metadata": {},
   "source": [
    "### 1 normal quick sort"
   ]
  },
  {
   "cell_type": "code",
   "execution_count": 2,
   "metadata": {},
   "outputs": [
    {
     "name": "stdout",
     "output_type": "stream",
     "text": [
      "cost_time: 3.3607912063598633s\n",
      "[1.4231677666343145e-06, 2.10677959044947e-06, 3.929946221892244e-06, 4.186427850161323e-06, 5.135811421252967e-06, 5.523595272505233e-06, 5.626236085798375e-06, 6.363431963252175e-06, 7.156266409014123e-06, 7.599683326198203e-06]\n"
     ]
    }
   ],
   "source": [
    "\n",
    "# 1e5 cost_time: 0.15999984741210938s\n",
    "# 1e6 cost_time: 2.509 -> 2.380 (插入排序带来的提升，好了一丢丢)\n",
    "li = [random.random() for _ in range(int(1e6))]\n",
    "res = qs.quick_sort(li)\n",
    "print(res[:10])"
   ]
  },
  {
   "attachments": {},
   "cell_type": "markdown",
   "metadata": {},
   "source": [
    "### 2 better quick sorted"
   ]
  },
  {
   "cell_type": "code",
   "execution_count": 4,
   "metadata": {},
   "outputs": [
    {
     "name": "stdout",
     "output_type": "stream",
     "text": [
      "cost_time: 3.1129064559936523s\n",
      "[1.86623886455628e-07, 1.4837078561313888e-06, 1.8002735020505867e-06, 1.8337539572366168e-06, 2.9083721341249813e-06, 3.976678298656111e-06, 4.747895019585613e-06, 5.4854077959909375e-06, 7.37469409850533e-06, 9.192449614059406e-06]\n"
     ]
    }
   ],
   "source": [
    "# 1e5 cost_time: 0.15999984741210938s\n",
    "# 1e6 cost_time: 2.509053945541382s\n",
    "li = [random.random() for _ in range(int(1e6))]\n",
    "res = qs.quick_sort_3way(li)\n",
    "print(res[:10])"
   ]
  }
 ],
 "metadata": {
  "kernelspec": {
   "display_name": "base",
   "language": "python",
   "name": "python3"
  },
  "language_info": {
   "codemirror_mode": {
    "name": "ipython",
    "version": 3
   },
   "file_extension": ".py",
   "mimetype": "text/x-python",
   "name": "python",
   "nbconvert_exporter": "python",
   "pygments_lexer": "ipython3",
   "version": "3.10.9"
  },
  "orig_nbformat": 4
 },
 "nbformat": 4,
 "nbformat_minor": 2
}
