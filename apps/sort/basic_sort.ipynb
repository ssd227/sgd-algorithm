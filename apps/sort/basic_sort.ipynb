{
 "cells": [
  {
   "attachments": {},
   "cell_type": "markdown",
   "metadata": {},
   "source": [
    "## 常见的排序算法\n",
    "\n",
    "\n",
    "* 选择排序\n",
    "* 插入排序\n",
    "* 希尔排序\n",
    "* 堆排序\n",
    "\n",
    "\n",
    "备注： quick_sort、merge_sort 各单独开一个notebook"
   ]
  },
  {
   "cell_type": "code",
   "execution_count": 19,
   "metadata": {},
   "outputs": [
    {
     "name": "stdout",
     "output_type": "stream",
     "text": [
      "/playground/sgd_算法\n"
     ]
    }
   ],
   "source": [
    "%cd /playground/sgd_算法/\n",
    "import sys \n",
    "sys.path.append('./python')\n",
    "import sgd_alg.sort as st\n",
    "import random\n",
    "import time"
   ]
  },
  {
   "attachments": {},
   "cell_type": "markdown",
   "metadata": {},
   "source": [
    "### 1、 选择排序\n",
    "```\n",
    "选择排序\n",
    "\n",
    "for i 到 n：\n",
    "    min_id = i\n",
    "    for j 到 n：\n",
    "        if vj < vi：\n",
    "            更新min_id = j\n",
    "    交换vi 和v_min_id (保证vi为剩下的数中最小的)\n",
    "\n",
    "最好情况=最坏情况，时间复杂度：O(N^2)\n",
    "数据移动较少，线性。外层循环交换一步到位\n",
    "\n",
    "Running time insensitive to input.\n",
    "Quadratic time, even if input is sorted.\n",
    "Data movement is minimal. Linear number of exchanges.\n",
    "```"
   ]
  },
  {
   "cell_type": "code",
   "execution_count": 20,
   "metadata": {},
   "outputs": [
    {
     "name": "stdout",
     "output_type": "stream",
     "text": [
      "[-325, 1, 3, 4, 7, 8, 72, 76, 723]\n"
     ]
    }
   ],
   "source": [
    "a = [4, 76, 7, 8, 3, 72, 723, -325, 1]\n",
    "\n",
    "st.selection_sort(a)\n",
    "print(a)\n"
   ]
  },
  {
   "attachments": {},
   "cell_type": "markdown",
   "metadata": {},
   "source": [
    "### 2 插入排序（冒泡排序）\n",
    "\n",
    "时间复杂度：\n",
    "* 最好情况 O(N)\n",
    "* 最坏情况 O(N^2)\n",
    "\n",
    "对于基本排好序的队列，逼近线性\n",
    "\n",
    "交换次数过多，每次冒泡都是一次数据交换\n",
    "\n",
    "Best case.\n",
    "* If the array is in ascending order, insertion sort makes\n",
    "  N - 1 compares and 0 exchanges.\n",
    "\n",
    "Worst case.\n",
    "* If the array is in descending order (and no duplicates),\n",
    "  insertion sort makes ~ ½ N 2 compares and ~ ½ N 2 exchanges.\n",
    "\n",
    "randomly case\n",
    "* To sort a randomly-ordered array with distinct keys,\n",
    "    insertion sort uses ~ ¼ N 2 compares and ~ ¼ N 2 exchanges on average\n"
   ]
  },
  {
   "cell_type": "code",
   "execution_count": 21,
   "metadata": {},
   "outputs": [
    {
     "name": "stdout",
     "output_type": "stream",
     "text": [
      "[-325, 1, 3, 4, 7, 8, 72, 76, 723]\n"
     ]
    }
   ],
   "source": [
    "a = [4, 76, 7, 8, 3, 72, 723, -325, 1]\n",
    "\n",
    "st.insertion_sort(a)\n",
    "print(a)"
   ]
  },
  {
   "attachments": {},
   "cell_type": "markdown",
   "metadata": {},
   "source": [
    "### 3 堆排序\n",
    "\n",
    "这个速度赶不上快排和mergesort，勉强能用。\n",
    "\n",
    "优点:可以放大数据流并保证树的最大高度不变，保留最后需要的topK数据\n",
    "\n",
    "----\n",
    "堆排序不是stable的，依次取出把末尾值提到上部再sink，可能打乱排序。\n",
    "\n",
    "Bottom line. Heapsort is optimal for both time and space, but:\n",
    "* Inner loop longer than quicksort’s.\n",
    "* Makes poor use of cache memory.\n",
    "* Not stable.\n",
    "\n",
    "todo \n",
    "* 优化1： Build heap using bottom-up method，不用一个一个树的插入，类似B+树的构造\n",
    "* 优化2：不用一个一个的取出重新赋值，直接用内部的 树array 来保存最后的排序结果。"
   ]
  },
  {
   "cell_type": "code",
   "execution_count": 22,
   "metadata": {},
   "outputs": [
    {
     "name": "stdout",
     "output_type": "stream",
     "text": [
      "cost time: 1.3111612796783447\n",
      "[0.9999803193152064, 0.9003334317876206, 0.800257452930831, 0.7005408379331394, 0.6005944737580959, 0.5003757695620041, 0.40004212053008115, 0.30125903637996476, 0.20205330211906836, 0.10083363369074094]\n"
     ]
    }
   ],
   "source": [
    "# size 1e5 cost time: 0.98900 -> 1.16419\n",
    "# size 1e6 cost time: 12.1479\n",
    "t1 = time.time()\n",
    "li = [random.random() for _ in range(int(1e5))]\n",
    "li_sort = st.heap_sort(li, reverse=False)\n",
    "print('cost time:', time.time()-t1)\n",
    "print(li_sort[::10000])\n"
   ]
  },
  {
   "attachments": {},
   "cell_type": "markdown",
   "metadata": {},
   "source": [
    "### 4 希尔排序\n",
    "\n",
    "```\n",
    "大h-sort，排序数量少。\n",
    "小h-sort，基本上已经排好了。\n",
    "基于之前的插入排序对这种情况有利，接近于ON的时间复杂度。\n",
    "\n",
    "todo 怎么证明小h-sort不会打乱大h-sort的序。\n",
    "todo 极限压力测试，但是时间复杂度不会降低到快排那么好。\n",
    "\n",
    "老头认为的最优参数，怎么来的不太清楚\n",
    "Sedgewick. 1, 5, 19, 41, 109, 209, 505, 929, 2161, 3905, …\n",
    "Good. Tough to beat in empirical studies.\n",
    "merging of (9 ⨉ 4^i) – (9 ⨉ 2^i) + 1\n",
    "and 4^i – (3 ⨉ 2^i) + 1\n",
    "```"
   ]
  },
  {
   "cell_type": "code",
   "execution_count": 23,
   "metadata": {},
   "outputs": [
    {
     "name": "stdout",
     "output_type": "stream",
     "text": [
      "cost_time: 0.7764670848846436s\n"
     ]
    }
   ],
   "source": [
    "# a = [4, 76, 7, 8, 3, 72, 723, -325, 1]\n",
    "\n",
    "# 1e4 cost_time: 0.04799771308898926\n",
    "# 1e5 cost_time: 0.7909963130950928\n",
    "# 1e6 cost_time: 13.919885873794556s\n",
    "# 还是比较慢的算法\n",
    "\n",
    "a = [random.random() for _ in range(int(1e5))]\n",
    "st.shell_sort(a)\n",
    "# print(a)"
   ]
  },
  {
   "attachments": {},
   "cell_type": "markdown",
   "metadata": {},
   "source": [
    "### 5 计数排序（桶排序）\n",
    "\n",
    "todo"
   ]
  },
  {
   "cell_type": "code",
   "execution_count": null,
   "metadata": {},
   "outputs": [],
   "source": []
  }
 ],
 "metadata": {
  "kernelspec": {
   "display_name": "base",
   "language": "python",
   "name": "python3"
  },
  "language_info": {
   "codemirror_mode": {
    "name": "ipython",
    "version": 3
   },
   "file_extension": ".py",
   "mimetype": "text/x-python",
   "name": "python",
   "nbconvert_exporter": "python",
   "pygments_lexer": "ipython3",
   "version": "3.10.9"
  },
  "orig_nbformat": 4
 },
 "nbformat": 4,
 "nbformat_minor": 2
}
