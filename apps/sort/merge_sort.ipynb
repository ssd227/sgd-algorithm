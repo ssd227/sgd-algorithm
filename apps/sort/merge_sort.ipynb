{
 "cells": [
  {
   "attachments": {},
   "cell_type": "markdown",
   "metadata": {},
   "source": [
    "## Merge Sort\n",
    "\n",
    "利用不同数据结构，递归、非递归、inplace实现了下面4种版本\n",
    "1) bottom_up_merge_sort\n",
    "2) inplace merge sort\n",
    "3) 使用stack实现的简洁、高效的版本\n",
    "4) 朴素调优版本\n",
    "\n",
    "todo 还需要再研究"
   ]
  },
  {
   "cell_type": "code",
   "execution_count": 1,
   "metadata": {},
   "outputs": [
    {
     "name": "stdout",
     "output_type": "stream",
     "text": [
      "/playground/sgd_算法\n"
     ]
    }
   ],
   "source": [
    "%cd /playground/sgd_算法/\n",
    "import sys \n",
    "sys.path.append('./python')\n",
    "import sgd_alg.sort.merge_sort as merge_sort\n",
    "import random\n",
    "import time"
   ]
  },
  {
   "attachments": {},
   "cell_type": "markdown",
   "metadata": {},
   "source": [
    "### 1 bottom_up_merge_sort\n",
    "\n",
    "这种处理边际指针的真是太容易错了。\n",
    "\n",
    "如果回报（效率）无明显提升，还是首选递归写法\n",
    "\n",
    "todo 这种直接在原始位置改值的做法还是太慢，不清楚python底层的哪一步代价巨大"
   ]
  },
  {
   "cell_type": "code",
   "execution_count": 2,
   "metadata": {},
   "outputs": [
    {
     "name": "stdout",
     "output_type": "stream",
     "text": [
      "sz1.0, cost time0.231950044631958\n",
      "sz2.0, cost time0.11243700981140137\n",
      "sz4.0, cost time0.0565485954284668\n",
      "sz8.0, cost time0.028531551361083984\n",
      "sz16.0, cost time0.014854669570922852\n",
      "sz32.0, cost time0.008541345596313477\n",
      "sz64.0, cost time0.005553722381591797\n",
      "sz128.0, cost time0.0034046173095703125\n",
      "sz256.0, cost time0.0025300979614257812\n",
      "sz512.0, cost time0.0022089481353759766\n",
      "sz1024.0, cost time0.001924753189086914\n",
      "sz2048.0, cost time0.0014548301696777344\n",
      "sz4096.0, cost time0.0014078617095947266\n",
      "sz8192.0, cost time0.001683950424194336\n",
      "cost_time: 0.4734375476837158s\n"
     ]
    }
   ],
   "source": [
    "li = [random.random() for _ in range(int(1e4))]\n",
    "merge_sort.buttom_up_merge_sort(li)\n",
    "# print(li)"
   ]
  },
  {
   "attachments": {},
   "cell_type": "markdown",
   "metadata": {},
   "source": [
    "## 2 inplace merge sort\n",
    "\n",
    "问题\n",
    "\n",
    "* 这个实现比预想的要慢，1e4-1e5的情况就不太对了，不像NlogN复杂度了。\n",
    "* 比快排的简单实现要慢的多。"
   ]
  },
  {
   "cell_type": "code",
   "execution_count": 3,
   "metadata": {},
   "outputs": [
    {
     "name": "stdout",
     "output_type": "stream",
     "text": [
      "cost_time: 0.450455904006958s\n"
     ]
    }
   ],
   "source": [
    "# 感觉实现的复杂度不太对\n",
    "# 1e4 cost_time: 0.17400145530700684s\n",
    "# 1e5 cost_time: 32.0959095954895s\n",
    "\n",
    "li = [random.random() for _ in range(int(1e4))]\n",
    "merge_sort.inplace_merge_sort(li)\n",
    "# print(a)"
   ]
  },
  {
   "attachments": {},
   "cell_type": "markdown",
   "metadata": {},
   "source": [
    "### 3 使用stack实现的简洁、高效的版本\n",
    "\n",
    "另一本书上实现的方法还比我那个快一点，而且还是没优化的，吐了。\n",
    "\n",
    "from 《python algorithm》\n",
    "\n",
    "todo 以后有时间再回头看看"
   ]
  },
  {
   "cell_type": "code",
   "execution_count": 4,
   "metadata": {},
   "outputs": [
    {
     "name": "stdout",
     "output_type": "stream",
     "text": [
      "cost time: 0.2947709560394287\n"
     ]
    }
   ],
   "source": [
    "\n",
    "# 1e5 cost time: 0.27900123596191406\n",
    "# 1e6 cost time: 3.4044387340545654\n",
    "\n",
    "t1 = time.time()\n",
    "\n",
    "li = [random.random() for _ in range(int(1e5))]\n",
    "merge_sort.fast_stack_merge_sort(li)\n",
    "# print(quick_sort(li))\n",
    "\n",
    "print('cost time:', time.time() - t1)"
   ]
  },
  {
   "attachments": {},
   "cell_type": "markdown",
   "metadata": {},
   "source": [
    "### 4 朴素调优版本\n"
   ]
  },
  {
   "cell_type": "code",
   "execution_count": 5,
   "metadata": {},
   "outputs": [
    {
     "name": "stdout",
     "output_type": "stream",
     "text": [
      "cost_time: 0.3839292526245117s\n"
     ]
    }
   ],
   "source": [
    "# 1e5 cost_time: cost_time: 0.32199907302856445s\n",
    "# 1e6 cost_time: 4.453022480010986s\n",
    "\n",
    "li = [random.random() for _ in range(int(1e5))]\n",
    "li_sort = merge_sort.merge_sort(li)\n",
    "# print(li_sort)"
   ]
  }
 ],
 "metadata": {
  "kernelspec": {
   "display_name": "base",
   "language": "python",
   "name": "python3"
  },
  "language_info": {
   "codemirror_mode": {
    "name": "ipython",
    "version": 3
   },
   "file_extension": ".py",
   "mimetype": "text/x-python",
   "name": "python",
   "nbconvert_exporter": "python",
   "pygments_lexer": "ipython3",
   "version": "3.10.9"
  },
  "orig_nbformat": 4
 },
 "nbformat": 4,
 "nbformat_minor": 2
}
