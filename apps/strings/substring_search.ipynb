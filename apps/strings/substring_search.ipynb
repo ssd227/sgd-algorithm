{
 "cells": [
  {
   "attachments": {},
   "cell_type": "markdown",
   "metadata": {},
   "source": [
    "## Substring Search(子串匹配) \n",
    "* 1 Knuth-Morris-Pratt \n",
    "* 2 Boyer-Moore\n",
    "* 3 Rabin-Karp fingerprint search\n"
   ]
  },
  {
   "attachments": {},
   "cell_type": "markdown",
   "metadata": {},
   "source": [
    "### 1 Knuth-Morris-Pratt "
   ]
  },
  {
   "cell_type": "code",
   "execution_count": 1,
   "metadata": {},
   "outputs": [
    {
     "name": "stdout",
     "output_type": "stream",
     "text": [
      "/playground/sgd_算法\n"
     ]
    }
   ],
   "source": [
    "%cd /playground/sgd_算法/\n",
    "import sys \n",
    "sys.path.append('./python')\n",
    "from sgd_alg.strings import KMP, BM, RK"
   ]
  },
  {
   "cell_type": "code",
   "execution_count": 2,
   "metadata": {},
   "outputs": [
    {
     "name": "stdout",
     "output_type": "stream",
     "text": [
      "find pattern: BAA , at txt id: 2\n",
      "BC BAA BACAE\n"
     ]
    }
   ],
   "source": [
    "# example 1 find pattern\n",
    "txt = \"BCBAABACAE\"\n",
    "pat = \"BAA\"\n",
    "\n",
    "kmp = KMP(pat=pat)\n",
    "ret = kmp.search(txt)\n",
    "\n",
    "if ret == len(txt):\n",
    "    print(\"未检索出pat, ret[{}]==len(txt)\".format(ret))\n",
    "else:\n",
    "    print('find pattern:', pat, ', at txt id:', ret)\n",
    "    print(txt[:ret], txt[ret:ret+len(pat)], txt[ret+len(pat):])"
   ]
  },
  {
   "cell_type": "code",
   "execution_count": 3,
   "metadata": {},
   "outputs": [
    {
     "name": "stdout",
     "output_type": "stream",
     "text": [
      "未检索出pat, ret[10]==len(txt)\n"
     ]
    }
   ],
   "source": [
    "# example 2 misnatch\n",
    "txt = \"BCBAABACAE\"\n",
    "pat = \"ABABAC\"\n",
    "\n",
    "kmp = KMP(pat=pat)\n",
    "ret = kmp.search(txt)\n",
    "\n",
    "if ret == len(txt):\n",
    "    print(\"未检索出pat, ret[{}]==len(txt)\".format(ret))"
   ]
  },
  {
   "attachments": {},
   "cell_type": "markdown",
   "metadata": {},
   "source": [
    "### 2 Boyer-Moore\n",
    "\n",
    "    Boyer-Moore mismatched character heuristic takes about ~N/M character compares\n",
    "    Worst-case Can be as bad as ~MN\n",
    "\n",
    "    for a pattern of length M \n",
    "    in a text of length N"
   ]
  },
  {
   "cell_type": "code",
   "execution_count": 4,
   "metadata": {},
   "outputs": [
    {
     "name": "stdout",
     "output_type": "stream",
     "text": [
      "find pattern: BAA , at txt id: 2\n",
      "BC BAA BACAE\n"
     ]
    }
   ],
   "source": [
    "# example 1 find pattern\n",
    "txt = \"BCBAABACAE\"\n",
    "pat = \"BAA\"\n",
    "\n",
    "bm = BM(pat=pat)\n",
    "ret = bm.search(txt)\n",
    "\n",
    "if ret == len(txt):\n",
    "    print(\"未检索出pat, ret[{}]==len(txt)\".format(ret))\n",
    "else:\n",
    "    print('find pattern:', pat, ', at txt id:', ret)\n",
    "    print(txt[:ret], txt[ret:ret+len(pat)], txt[ret+len(pat):])"
   ]
  },
  {
   "cell_type": "code",
   "execution_count": 5,
   "metadata": {},
   "outputs": [
    {
     "name": "stdout",
     "output_type": "stream",
     "text": [
      "未检索出pat, ret[10]==len(txt)\n"
     ]
    }
   ],
   "source": [
    "# example 2 misnatch\n",
    "txt = \"BCBAABACAE\"\n",
    "pat = \"ABABAC\"\n",
    "\n",
    "bm = BM(pat=pat)\n",
    "ret = bm.search(txt)\n",
    "\n",
    "if ret == len(txt):\n",
    "    print(\"未检索出pat, ret[{}]==len(txt)\".format(ret))"
   ]
  },
  {
   "attachments": {},
   "cell_type": "markdown",
   "metadata": {},
   "source": [
    "### 3 Rabin-Karp fingerprint search\n",
    "\n",
    "    Note\n",
    "    Theory. \n",
    "        If Q is a sufficiently large random prime (about MN^2),\n",
    "        then the probability of a false collision is about 1/N.\n",
    "\n",
    "    Practice. \n",
    "        Choose Q to be a large prime (but not so large to cause overflow).\n",
    "        Under reasonable assumptions, probability of a collision is about 1/Q.\n"
   ]
  },
  {
   "cell_type": "code",
   "execution_count": 6,
   "metadata": {},
   "outputs": [
    {
     "name": "stdout",
     "output_type": "stream",
     "text": [
      "find pattern: BAA , at txt id: 2\n",
      "BC BAA BACAE\n"
     ]
    }
   ],
   "source": [
    "# example 1 find pattern\n",
    "txt = \"BCBAABACAE\"\n",
    "pat = \"BAA\"\n",
    "\n",
    "rk = RK(pat=pat)\n",
    "ret = rk.search(txt)\n",
    "\n",
    "if ret == len(txt):\n",
    "    print(\"未检索出pat, ret[{}]==len(txt)\".format(ret))\n",
    "else:\n",
    "    print('find pattern:', pat, ', at txt id:', ret)\n",
    "    print(txt[:ret], txt[ret:ret+len(pat)], txt[ret+len(pat):])"
   ]
  },
  {
   "cell_type": "code",
   "execution_count": 7,
   "metadata": {},
   "outputs": [
    {
     "name": "stdout",
     "output_type": "stream",
     "text": [
      "未检索出pat, ret[10]==len(txt)\n"
     ]
    }
   ],
   "source": [
    "# example 2 misnatch\n",
    "txt = \"BCBAABACAE\"\n",
    "pat = \"ABABAC\"\n",
    "\n",
    "rk = RK(pat=pat)\n",
    "ret = rk.search(txt)\n",
    "\n",
    "if ret == len(txt):\n",
    "    print(\"未检索出pat, ret[{}]==len(txt)\".format(ret))"
   ]
  }
 ],
 "metadata": {
  "kernelspec": {
   "display_name": "base",
   "language": "python",
   "name": "python3"
  },
  "language_info": {
   "codemirror_mode": {
    "name": "ipython",
    "version": 3
   },
   "file_extension": ".py",
   "mimetype": "text/x-python",
   "name": "python",
   "nbconvert_exporter": "python",
   "pygments_lexer": "ipython3",
   "version": "3.10.9"
  },
  "orig_nbformat": 4
 },
 "nbformat": 4,
 "nbformat_minor": 2
}
