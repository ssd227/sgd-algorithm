{
 "cells": [
  {
   "attachments": {},
   "cell_type": "markdown",
   "metadata": {},
   "source": [
    "## Queue （队列）"
   ]
  },
  {
   "cell_type": "code",
   "execution_count": 1,
   "metadata": {},
   "outputs": [
    {
     "name": "stdout",
     "output_type": "stream",
     "text": [
      "/playground/sgd_算法\n"
     ]
    }
   ],
   "source": [
    "%cd /playground/sgd_算法/\n",
    "import sys \n",
    "sys.path.append('./python')\n",
    "from sgd_alg.data_struct import ResizingArrayQueue"
   ]
  },
  {
   "cell_type": "code",
   "execution_count": 2,
   "metadata": {},
   "outputs": [
    {
     "name": "stdout",
     "output_type": "stream",
     "text": [
      "[0, None] 2\n",
      "[0, 1] 2\n",
      "[0, 1, 2, None] 4\n",
      "[0, 1, 2, 3] 4\n",
      "[0, 1, 2, 3, 4, None, None, None] 8\n",
      "[0, 1, 2, 3, 4, 5, None, None] 8\n",
      "[0, 1, 2, 3, 4, 5, 6, None] 8\n",
      "[0, 1, 2, 3, 4, 5, 6, 7] 8\n",
      "[0, 1, 2, 3, 4, 5, 6, 7, 8, None, None, None, None, None, None, None] 16\n",
      "[0, 1, 2, 3, 4, 5, 6, 7, 8, 9, None, None, None, None, None, None] 16\n",
      "this [0, 1, 2, 3, 4, 5, 6, 7, 8, 9, None, None, None, None, None, None] 16 1\n",
      "this [0, 1, 2, 3, 4, 5, 6, 7, 8, 9, None, None, None, None, None, None] 16 2\n",
      "this [0, 1, 2, 3, 4, 5, 6, 7, 8, 9, None, None, None, None, None, None] 16 3\n",
      "this [0, 1, 2, 3, 4, 5, 6, 7, 8, 9, None, None, None, None, None, None] 16 4\n",
      "this [0, 1, 2, 3, 4, 5, 6, 7, 8, 9, None, None, None, None, None, None] 16 5\n",
      "[0, 1, 2, 3, 4]\n",
      "[0, 1, 2, 3, 4, 5, 6, 7, 8, 9, 11, None, None, None, None, None] 16 6\n",
      "[0, 1, 2, 3, 4, 5, 6, 7, 8, 9, 11, 12, None, None, None, None] 16 7\n",
      "[0, 1, 2, 3, 4, 5, 6, 7, 8, 9, 11, 12, 13, None, None, None] 16 8\n",
      "[0, 1, 2, 3, 4, 5, 6, 7, 8, 9, 11, 12, 13, 14, None, None] 16 9\n",
      "[0, 1, 2, 3, 4, 5, 6, 7, 8, 9, 11, 12, 13, 14, 15, None] 16 10\n",
      "this [0, 1, 2, 3, 4, 5, 6, 7, 8, 9, 11, 12, 13, 14, 15, None] 16 6\n",
      "this [0, 1, 2, 3, 4, 5, 6, 7, 8, 9, 11, 12, 13, 14, 15, None] 16 7\n",
      "this [0, 1, 2, 3, 4, 5, 6, 7, 8, 9, 11, 12, 13, 14, 15, None] 16 8\n",
      "this [0, 1, 2, 3, 4, 5, 6, 7, 8, 9, 11, 12, 13, 14, 15, None] 16 9\n",
      "this [0, 1, 2, 3, 4, 5, 6, 7, 8, 9, 11, 12, 13, 14, 15, None] 16 10\n",
      "[5, 6, 7, 8, 9]\n"
     ]
    }
   ],
   "source": [
    "li = list(range(10))\n",
    "# que = LinkListQueue()\n",
    "que = ResizingArrayQueue()\n",
    "for x in li:\n",
    "    que.enqueue(x)\n",
    "    print(que.array, que.capacity)\n",
    "result = []\n",
    "for i in range(5):\n",
    "    result.append(que.dequeue())\n",
    "    print('this', que.array, que.capacity, que.head_id)\n",
    "print(result)\n",
    "\n",
    "for x in [11, 12, 13, 14, 15]:\n",
    "    que.enqueue(x)\n",
    "    print(que.array, que.capacity, que.size())\n",
    "\n",
    "result = []\n",
    "for i in range(5):\n",
    "    result.append(que.dequeue())\n",
    "    print('this', que.array, que.capacity, que.head_id)\n",
    "print(result)\n"
   ]
  }
 ],
 "metadata": {
  "kernelspec": {
   "display_name": "base",
   "language": "python",
   "name": "python3"
  },
  "language_info": {
   "codemirror_mode": {
    "name": "ipython",
    "version": 3
   },
   "file_extension": ".py",
   "mimetype": "text/x-python",
   "name": "python",
   "nbconvert_exporter": "python",
   "pygments_lexer": "ipython3",
   "version": "3.10.9"
  },
  "orig_nbformat": 4
 },
 "nbformat": 4,
 "nbformat_minor": 2
}
