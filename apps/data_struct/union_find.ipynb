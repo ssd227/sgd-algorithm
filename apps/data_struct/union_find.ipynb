{
 "cells": [
  {
   "attachments": {},
   "cell_type": "markdown",
   "metadata": {},
   "source": [
    "## Union-Find （并查集）"
   ]
  },
  {
   "cell_type": "code",
   "execution_count": 1,
   "metadata": {},
   "outputs": [
    {
     "name": "stdout",
     "output_type": "stream",
     "text": [
      "/playground/sgd_算法\n"
     ]
    }
   ],
   "source": [
    "%cd /playground/sgd_算法/\n",
    "import sys \n",
    "sys.path.append('./python')\n",
    "from sgd_alg.data_struct import QuickUnionUF, QuickFindUF, UF\n",
    "from sgd_alg.util import calc_time\n",
    "import random"
   ]
  },
  {
   "cell_type": "code",
   "execution_count": 2,
   "metadata": {},
   "outputs": [],
   "source": [
    "def ex_slow_uf():\n",
    "    N = 10\n",
    "    qf_uf = QuickFindUF(N)\n",
    "    qu_uf = QuickUnionUF(N)\n",
    "\n",
    "    union_op = [(4, 3), (3, 8), (6, 5), (9, 4),\n",
    "                (2, 1), (8, 9), (5, 0), (7, 2),\n",
    "                (6, 1), (1, 0), (6, 7)]\n",
    "\n",
    "    for p, q in union_op:\n",
    "        qf_uf.union(p, q)\n",
    "        qu_uf.union(p, q)\n",
    "\n",
    "\n",
    "@calc_time\n",
    "def ex_fast_uf(N):\n",
    "    uf = UF(N)\n",
    "    for i in range(N):\n",
    "        # 随机生成union操作\n",
    "        p = random.randint(0, N - 1)\n",
    "        q = random.randint(0, N - 1)\n",
    "        uf.union(p, q)\n",
    "    print('count:', uf.count())"
   ]
  },
  {
   "cell_type": "code",
   "execution_count": 3,
   "metadata": {},
   "outputs": [
    {
     "name": "stdout",
     "output_type": "stream",
     "text": [
      "N:1e0\tcount: 1\n",
      "cost_time: 2.4557113647460938e-05s\n",
      "N:1e1\tcount: 3\n",
      "cost_time: 2.9802322387695312e-05s\n",
      "N:1e2\tcount: 15\n",
      "cost_time: 0.00022649765014648438s\n",
      "N:1e3\tcount: 170\n",
      "cost_time: 0.002642393112182617s\n",
      "N:1e4\tcount: 1651\n",
      "cost_time: 0.030221939086914062s\n",
      "N:1e5\tcount: 16209\n",
      "cost_time: 0.299210786819458s\n",
      "N:1e6\tcount: 161821\n",
      "cost_time: 2.9097185134887695s\n"
     ]
    }
   ],
   "source": [
    "# 极限3000s（约一个小时），可以处理到1e9量级的数据NlogN, 但是爆内存\n",
    "# java 1e8 14秒， 调大heap内存，1e9估计100多秒可以算完。\n",
    "\n",
    "for x in range(7):\n",
    "    items_num = pow(10, x)\n",
    "    print('N:1e{}'.format(x), end='\\t')\n",
    "    ex_fast_uf(items_num)\n"
   ]
  }
 ],
 "metadata": {
  "kernelspec": {
   "display_name": "base",
   "language": "python",
   "name": "python3"
  },
  "language_info": {
   "codemirror_mode": {
    "name": "ipython",
    "version": 3
   },
   "file_extension": ".py",
   "mimetype": "text/x-python",
   "name": "python",
   "nbconvert_exporter": "python",
   "pygments_lexer": "ipython3",
   "version": "3.10.9"
  },
  "orig_nbformat": 4
 },
 "nbformat": 4,
 "nbformat_minor": 2
}
