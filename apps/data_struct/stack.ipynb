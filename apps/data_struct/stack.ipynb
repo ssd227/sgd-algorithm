{
 "cells": [
  {
   "attachments": {},
   "cell_type": "markdown",
   "metadata": {},
   "source": [
    "## Stack \n",
    "\n",
    "* 普通栈\n",
    "* 单调栈"
   ]
  },
  {
   "cell_type": "code",
   "execution_count": 1,
   "metadata": {},
   "outputs": [
    {
     "name": "stdout",
     "output_type": "stream",
     "text": [
      "/playground/sgd_算法\n"
     ]
    }
   ],
   "source": [
    "%cd /playground/sgd_算法/\n",
    "import sys \n",
    "sys.path.append('./python')\n",
    "from sgd_alg.data_struct.stack import  ResizingArrayStack, mono_stack"
   ]
  },
  {
   "attachments": {},
   "cell_type": "markdown",
   "metadata": {},
   "source": [
    "### 1 普通栈结构 Stack\n",
    "```\n",
    "stack.py module\n",
    "\n",
    "实现类\n",
    "    StackInterface 栈的抽象类\n",
    "    LinkListStack 单向链表\n",
    "    ArrayStack  定长数组\n",
    "    ResizingArrayStack 可变长数组\n",
    "\n",
    "tips：\n",
    "    LinkListStack 操作单链表需要额外的时间和空间，操作都是常数时间\n",
    "    ResizingArrayStack 浪费额外的数据存储空间，重新分配空间时操作为O(N)时间, 平均为常数时间。\n",
    "\n",
    "todo 压力测试两种类的极限情况（内存和时间上的优略）\n",
    "```"
   ]
  },
  {
   "cell_type": "code",
   "execution_count": 2,
   "metadata": {},
   "outputs": [
    {
     "name": "stdout",
     "output_type": "stream",
     "text": [
      "stack is empty, no elem to pop!\n",
      "stack is empty, no elem to pop!\n",
      "[9, 8, 7, 6, 5, 4, 3, 2, 1, 0, None, None]\n"
     ]
    }
   ],
   "source": [
    "li = list(range(10))\n",
    "# st = LinkListStack()\n",
    "# st = ArrayStack(10)\n",
    "st = ResizingArrayStack()\n",
    "\n",
    "for x in li:\n",
    "    st.push(x)\n",
    "result = []\n",
    "for i in range(12):\n",
    "    result.append(st.pop())\n",
    "print(result)"
   ]
  },
  {
   "attachments": {},
   "cell_type": "markdown",
   "metadata": {},
   "source": [
    "### 单调栈（MonoStack）\n",
    "\n",
    "解题思路参考文档 - leetcode/docs/739.每日温度-(单调栈).md"
   ]
  },
  {
   "cell_type": "code",
   "execution_count": 3,
   "metadata": {},
   "outputs": [],
   "source": [
    "def left_min(li):\n",
    "    return mono_stack(li, True)\n",
    "\n",
    "\n",
    "def left_max(li):\n",
    "    return mono_stack(li, False)\n",
    "\n",
    "\n",
    "def right_min(li, type=True):\n",
    "    reli = li[::-1]\n",
    "    re_res = mono_stack(reli, type)\n",
    "    res = [len(li) - 1 - id if not id == -1 else -1 for id in re_res]\n",
    "\n",
    "    return res[::-1]\n",
    "\n",
    "\n",
    "def right_max(li):\n",
    "    return right_min(li, False)"
   ]
  },
  {
   "cell_type": "code",
   "execution_count": 4,
   "metadata": {},
   "outputs": [
    {
     "name": "stdout",
     "output_type": "stream",
     "text": [
      "[2, 3, 7, 2, 3, 7, 1, 657, 347, 233, 46, 8]\n",
      "[3, 7, 7, 3, 7, 657, 657, 'Null', 'Null', 'Null', 'Null', 'Null']\n",
      "[1, 2, 5, 4, 5, 7, 7, -1, -1, -1, -1, -1]\n"
     ]
    }
   ],
   "source": [
    "h1 = [2, 3, 7, 2, 3, 7, 1, 657, 347, 233, 46, 8]\n",
    "h2 = right_max(h1)\n",
    "\n",
    "h3 = [h1[i] if not i == -1 else 'Null' for i in h2]\n",
    "print(h1)\n",
    "print(h3)\n",
    "print(h2)"
   ]
  }
 ],
 "metadata": {
  "kernelspec": {
   "display_name": "base",
   "language": "python",
   "name": "python3"
  },
  "language_info": {
   "codemirror_mode": {
    "name": "ipython",
    "version": 3
   },
   "file_extension": ".py",
   "mimetype": "text/x-python",
   "name": "python",
   "nbconvert_exporter": "python",
   "pygments_lexer": "ipython3",
   "version": "3.10.9"
  },
  "orig_nbformat": 4
 },
 "nbformat": 4,
 "nbformat_minor": 2
}
