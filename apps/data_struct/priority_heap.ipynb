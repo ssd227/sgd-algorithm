{
 "cells": [
  {
   "attachments": {},
   "cell_type": "markdown",
   "metadata": {},
   "source": [
    "## Heap（大根堆or小根堆）\n",
    "```\n",
    "优先队列 priority heap\n",
    "\n",
    "使用场景：\n",
    "    Find the largest M items in a stream of N items.\n",
    "    N非常大，M范围限制在内存可接受范围\n",
    "\n",
    "主要操作：\n",
    "1、插入 将元素插入array树的末端，进行switch_up\n",
    "2、switch_down 当parent node val 大于child node val\n",
    "    选取较大的node进行父子交换（可以以较少的下沉操作找到合理的位置）。\n",
    "3、删除 pop堆顶元素，将树末端元素插入root，执行switch_down操作\n",
    "\n",
    "下表从1开始，可以简化找parent 和 child 的取模运算\n",
    "\n",
    "时间复杂度：NlogN\n",
    "空间复杂度： N+1\n",
    "\n",
    "todo 插入一直可以无条件进行，插满了就需继续插，然后推出一个队列末尾的数\n",
    "```"
   ]
  },
  {
   "cell_type": "code",
   "execution_count": 1,
   "metadata": {},
   "outputs": [
    {
     "name": "stdout",
     "output_type": "stream",
     "text": [
      "/playground/sgd_算法\n"
     ]
    }
   ],
   "source": [
    "%cd ../../\n",
    "import sys \n",
    "sys.path.append('./python')\n",
    "from sgd_alg.data_struct import  minheap, maxheap"
   ]
  },
  {
   "cell_type": "code",
   "execution_count": 2,
   "metadata": {},
   "outputs": [
    {
     "name": "stdout",
     "output_type": "stream",
     "text": [
      "add item: 1\n",
      "add item: 2\n",
      "add item: 3\n",
      "add item: 4\n",
      "add item: 5\n",
      "add item: 6\n",
      "add item: 7\n",
      "add item: -1\n",
      "add item: -2\n",
      "add item: -3\n",
      "6\n"
     ]
    }
   ],
   "source": [
    "li = [1,2,3,4,5,6,7, -1, -2, -3]\n",
    "k = 2\n",
    "# 保留topk个最大的元素, 使用小根堆\n",
    "topk_large = minheap(capacity=k)\n",
    "for x in li:\n",
    "    print(\"add item:\", x)\n",
    "    topk_large.auto_add(x)\n",
    "\n",
    "print(topk_large.top())"
   ]
  },
  {
   "cell_type": "code",
   "execution_count": 3,
   "metadata": {},
   "outputs": [
    {
     "name": "stdout",
     "output_type": "stream",
     "text": [
      "-2\n"
     ]
    }
   ],
   "source": [
    "# 保留topk个最小的元素，使用大根堆\n",
    "topk_small = maxheap(capacity=k)\n",
    "for x in li:\n",
    "    topk_small.auto_add(x)\n",
    "\n",
    "print(topk_small.top())"
   ]
  }
 ],
 "metadata": {
  "kernelspec": {
   "display_name": "base",
   "language": "python",
   "name": "python3"
  },
  "language_info": {
   "codemirror_mode": {
    "name": "ipython",
    "version": 3
   },
   "file_extension": ".py",
   "mimetype": "text/x-python",
   "name": "python",
   "nbconvert_exporter": "python",
   "pygments_lexer": "ipython3",
   "version": "3.10.9"
  },
  "orig_nbformat": 4
 },
 "nbformat": 4,
 "nbformat_minor": 2
}
