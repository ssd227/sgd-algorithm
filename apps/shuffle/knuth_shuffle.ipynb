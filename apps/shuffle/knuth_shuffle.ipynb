{
 "cells": [
  {
   "attachments": {},
   "cell_type": "markdown",
   "metadata": {},
   "source": [
    "\n",
    "思路类似于水塘抽样\n",
    "\n",
    "由于随机数种子的选取有限，所以还是伪随机数\n"
   ]
  },
  {
   "cell_type": "code",
   "execution_count": 3,
   "metadata": {},
   "outputs": [
    {
     "name": "stdout",
     "output_type": "stream",
     "text": [
      "/playground/sgd_算法\n"
     ]
    }
   ],
   "source": [
    "%cd /playground/sgd_算法/\n",
    "import sys \n",
    "sys.path.append('./python')\n",
    "from sgd_alg.shuffle import knuth_shuffle"
   ]
  },
  {
   "cell_type": "code",
   "execution_count": 4,
   "metadata": {},
   "outputs": [
    {
     "name": "stdout",
     "output_type": "stream",
     "text": [
      "[4, 5, 1, 8, 2, 3, 9, 0, 6, 7]\n"
     ]
    }
   ],
   "source": [
    "li = list(range(10))\n",
    "knuth_shuffle(li)\n",
    "print(li)\n"
   ]
  }
 ],
 "metadata": {
  "kernelspec": {
   "display_name": "base",
   "language": "python",
   "name": "python3"
  },
  "language_info": {
   "codemirror_mode": {
    "name": "ipython",
    "version": 3
   },
   "file_extension": ".py",
   "mimetype": "text/x-python",
   "name": "python",
   "nbconvert_exporter": "python",
   "pygments_lexer": "ipython3",
   "version": "3.10.9"
  },
  "orig_nbformat": 4
 },
 "nbformat": 4,
 "nbformat_minor": 2
}
