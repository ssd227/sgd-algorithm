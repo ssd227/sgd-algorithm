{
 "cells": [
  {
   "attachments": {},
   "cell_type": "markdown",
   "metadata": {},
   "source": [
    "### shuffle sort\n",
    "\n",
    "给每个位置生成随机数，给随机数排序从而打乱原始队列\n",
    "\n",
    "打乱效率不是很高啊，不如knuth_shuffle.\n",
    "\n",
    "备注：不推荐调用"
   ]
  },
  {
   "cell_type": "code",
   "execution_count": 12,
   "metadata": {},
   "outputs": [
    {
     "name": "stdout",
     "output_type": "stream",
     "text": [
      "/playground/sgd_算法\n"
     ]
    }
   ],
   "source": [
    "%cd /playground/sgd_算法/\n",
    "import sys \n",
    "sys.path.append('./python')\n",
    "from sgd_alg.shuffle import shuffle_sort"
   ]
  },
  {
   "cell_type": "code",
   "execution_count": 13,
   "metadata": {},
   "outputs": [
    {
     "name": "stdout",
     "output_type": "stream",
     "text": [
      "[4, 7, 3, 1, 6, 8, 5, 2, 9, 0]\n"
     ]
    }
   ],
   "source": [
    "\n",
    "a = list(range(10))\n",
    "print(shuffle_sort(a))"
   ]
  }
 ],
 "metadata": {
  "kernelspec": {
   "display_name": "base",
   "language": "python",
   "name": "python3"
  },
  "language_info": {
   "codemirror_mode": {
    "name": "ipython",
    "version": 3
   },
   "file_extension": ".py",
   "mimetype": "text/x-python",
   "name": "python",
   "nbconvert_exporter": "python",
   "pygments_lexer": "ipython3",
   "version": "3.10.9"
  },
  "orig_nbformat": 4
 },
 "nbformat": 4,
 "nbformat_minor": 2
}
