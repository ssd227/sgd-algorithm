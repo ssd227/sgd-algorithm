{
 "cells": [
  {
   "attachments": {},
   "cell_type": "markdown",
   "metadata": {},
   "source": [
    "## Trie Tree 字典树\n",
    "\n",
    "trie树常用于搜索提示。如当输入一个网址,可以自动搜索出可能的选择。\n",
    "当没有完全匹配的搜索结果，可以返回前缀最相似的可能。\n",
    "\n",
    "* todo trie tree 改造成 string symbol table, is_word 用来存值\n",
    "    * 底层使用hash,以来减少查询key所用的hash等计算操作\n",
    "\n",
    "\n",
    "R-way trie: 由于使用 defaultdict 所以可以动态扩展R的大小,不再单独实现"
   ]
  },
  {
   "cell_type": "code",
   "execution_count": 1,
   "metadata": {},
   "outputs": [
    {
     "name": "stdout",
     "output_type": "stream",
     "text": [
      "/playground/sgd_算法\n"
     ]
    }
   ],
   "source": [
    "%cd /playground/sgd_算法/\n",
    "import sys \n",
    "sys.path.append('./python')\n",
    "from sgd_alg.context import Trie"
   ]
  },
  {
   "cell_type": "code",
   "execution_count": 5,
   "metadata": {},
   "outputs": [
    {
     "name": "stdout",
     "output_type": "stream",
     "text": [
      "True\n",
      "False\n",
      "True\n"
     ]
    }
   ],
   "source": [
    "seen = [\"a\", \"abc\" ,'ade']\n",
    "trie = Trie()\n",
    "\n",
    "[trie.insert(word) for word in seen]\n",
    "\n",
    "print(trie.search('abc'))\n",
    "print(trie.search('abd'))\n",
    "\n",
    "print(trie.startsWith(\"ab\"))"
   ]
  }
 ],
 "metadata": {
  "kernelspec": {
   "display_name": "base",
   "language": "python",
   "name": "python3"
  },
  "language_info": {
   "codemirror_mode": {
    "name": "ipython",
    "version": 3
   },
   "file_extension": ".py",
   "mimetype": "text/x-python",
   "name": "python",
   "nbconvert_exporter": "python",
   "pygments_lexer": "ipython3",
   "version": "3.10.9"
  },
  "orig_nbformat": 4
 },
 "nbformat": 4,
 "nbformat_minor": 2
}
