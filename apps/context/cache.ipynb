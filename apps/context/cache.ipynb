{
 "cells": [
  {
   "attachments": {},
   "cell_type": "markdown",
   "metadata": {},
   "source": [
    "### Cache 调度算法"
   ]
  },
  {
   "cell_type": "code",
   "execution_count": 1,
   "metadata": {},
   "outputs": [
    {
     "name": "stdout",
     "output_type": "stream",
     "text": [
      "/playground/sgd_算法\n"
     ]
    },
    {
     "name": "stderr",
     "output_type": "stream",
     "text": [
      "/opt/conda/lib/python3.10/site-packages/IPython/core/magics/osm.py:417: UserWarning: using dhist requires you to install the `pickleshare` library.\n",
      "  self.shell.db['dhist'] = compress_dhist(dhist)[-100:]\n"
     ]
    }
   ],
   "source": [
    "%cd ../../\n",
    "import sys \n",
    "sys.path.append('./python')\n",
    "from sgd_alg.context.cache import LRUCache"
   ]
  },
  {
   "attachments": {},
   "cell_type": "markdown",
   "metadata": {},
   "source": [
    "### 1 LRU cache\n",
    "\n",
    "设计思路：\n",
    "\n",
    "* 用双向链表去存储具体数据的节点\n",
    "* get,put 用 基于hash的dict来达到O(1)的操作"
   ]
  },
  {
   "cell_type": "code",
   "execution_count": 2,
   "metadata": {},
   "outputs": [
    {
     "name": "stdout",
     "output_type": "stream",
     "text": [
      "LRU Cache: all function test, OK\n"
     ]
    }
   ],
   "source": [
    "lru_cache = LRUCache(2)\n",
    "lru_cache.put(1, 1)\n",
    "lru_cache.put(2, 2)\n",
    "assert lru_cache.get(1) == 1\n",
    "lru_cache.put(3, 3)\n",
    "assert lru_cache.get(2) == -1\n",
    "lru_cache.put(4, 4)\n",
    "assert lru_cache.get(1) == -1\n",
    "assert lru_cache.get(3) == 3\n",
    "assert lru_cache.get(4) == 4\n",
    "# lru_cache.inner_state_log()\n",
    "print(\"LRU Cache: all function test, OK\")"
   ]
  }
 ],
 "metadata": {
  "kernelspec": {
   "display_name": "base",
   "language": "python",
   "name": "python3"
  },
  "language_info": {
   "codemirror_mode": {
    "name": "ipython",
    "version": 3
   },
   "file_extension": ".py",
   "mimetype": "text/x-python",
   "name": "python",
   "nbconvert_exporter": "python",
   "pygments_lexer": "ipython3",
   "version": "3.10.9"
  },
  "orig_nbformat": 4
 },
 "nbformat": 4,
 "nbformat_minor": 2
}
