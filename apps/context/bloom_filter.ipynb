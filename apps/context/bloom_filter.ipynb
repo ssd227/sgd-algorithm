{
 "cells": [
  {
   "cell_type": "code",
   "execution_count": 1,
   "metadata": {
    "collapsed": true
   },
   "outputs": [
    {
     "ename": "ModuleNotFoundError",
     "evalue": "No module named 'pybloom'",
     "output_type": "error",
     "traceback": [
      "\u001b[0;31m---------------------------------------------------------------------------\u001b[0m",
      "\u001b[0;31mModuleNotFoundError\u001b[0m                       Traceback (most recent call last)",
      "Cell \u001b[0;32mIn[1], line 1\u001b[0m\n\u001b[0;32m----> 1\u001b[0m \u001b[39mfrom\u001b[39;00m \u001b[39mpybloom\u001b[39;00m \u001b[39mimport\u001b[39;00m BloomFilter\n\u001b[1;32m      3\u001b[0m f \u001b[39m=\u001b[39m BloomFilter(capacity\u001b[39m=\u001b[39m\u001b[39m1000\u001b[39m, error_rate\u001b[39m=\u001b[39m\u001b[39m0.001\u001b[39m)\n\u001b[1;32m      4\u001b[0m [f\u001b[39m.\u001b[39madd(x) \u001b[39mfor\u001b[39;00m x \u001b[39min\u001b[39;00m \u001b[39mrange\u001b[39m(\u001b[39m10\u001b[39m)]\n",
      "\u001b[0;31mModuleNotFoundError\u001b[0m: No module named 'pybloom'"
     ]
    }
   ],
   "source": [
    "from pybloom import BloomFilter\n",
    "\n",
    "f = BloomFilter(capacity=1000, error_rate=0.001)\n",
    "[f.add(x) for x in range(10)]\n",
    "print(all([x in f for x in range(10)]))"
   ]
  },
  {
   "cell_type": "code",
   "execution_count": null,
   "metadata": {
    "collapsed": false
   },
   "outputs": [],
   "source": [
    "import string\n",
    "import random\n",
    "from pybloom import BloomFilter\n",
    "\n",
    "def get_string(N):\n",
    "    str_list = [''.join(random.sample(string.ascii_letters + string.digits, random.randint(5, 20))) for x in\n",
    "                range(int(N))]\n",
    "    return str_list\n",
    "\n",
    "\n",
    "if __name__ == '__main__':\n",
    "    import time\n",
    "\n",
    "    tic = time.time()\n",
    "\n",
    "    inners = get_string(1e6)\n",
    "    outers = get_string(1e4)\n",
    "    print(len(inners))\n",
    "    # print(inners)\n",
    "\n",
    "    tic = time.time()\n",
    "    f = BloomFilter(capacity=1e6, error_rate=1e-5)\n",
    "\n",
    "    [f.add(x) for x in inners]\n",
    "\n",
    "\n",
    "    c = 0\n",
    "    for x in outers:\n",
    "        if x in f:\n",
    "            c += 1\n",
    "    print(c, len(outers), 1.0 * c / len(outers))\n",
    "\n",
    "    toc = time.time()\n",
    "    print(toc - tic)\n"
   ]
  }
 ],
 "metadata": {
  "kernelspec": {
   "display_name": "Python 3",
   "language": "python",
   "name": "python3"
  },
  "language_info": {
   "codemirror_mode": {
    "name": "ipython",
    "version": 3
   },
   "file_extension": ".py",
   "mimetype": "text/x-python",
   "name": "python",
   "nbconvert_exporter": "python",
   "pygments_lexer": "ipython3",
   "version": "3.10.9"
  }
 },
 "nbformat": 4,
 "nbformat_minor": 0
}
